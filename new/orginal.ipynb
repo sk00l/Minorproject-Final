{
 "cells": [
  {
   "cell_type": "code",
   "execution_count": 15,
   "metadata": {},
   "outputs": [],
   "source": [
    "import pandas as pd\n",
    "import numpy as np\n",
    "from sklearn.feature_extraction.text import TfidfVectorizer\n",
    "from sklearn.metrics.pairwise import linear_kernel\n",
    "from sklearn import metrics\n",
    "import dill as pickle"
   ]
  },
  {
   "cell_type": "code",
   "execution_count": 16,
   "metadata": {},
   "outputs": [],
   "source": [
    "df_products= pd.read_csv(\"new.csv\")"
   ]
  },
  {
   "cell_type": "code",
   "execution_count": 17,
   "metadata": {},
   "outputs": [
    {
     "data": {
      "text/html": [
       "<div>\n",
       "<style scoped>\n",
       "    .dataframe tbody tr th:only-of-type {\n",
       "        vertical-align: middle;\n",
       "    }\n",
       "\n",
       "    .dataframe tbody tr th {\n",
       "        vertical-align: top;\n",
       "    }\n",
       "\n",
       "    .dataframe thead th {\n",
       "        text-align: right;\n",
       "    }\n",
       "</style>\n",
       "<table border=\"1\" class=\"dataframe\">\n",
       "  <thead>\n",
       "    <tr style=\"text-align: right;\">\n",
       "      <th></th>\n",
       "      <th>name</th>\n",
       "      <th>description</th>\n",
       "    </tr>\n",
       "  </thead>\n",
       "  <tbody>\n",
       "    <tr>\n",
       "      <th>0</th>\n",
       "      <td>Airpods Wireless Bluetooth Headphones</td>\n",
       "      <td>Bluetooth technology lets you connect it with ...</td>\n",
       "    </tr>\n",
       "    <tr>\n",
       "      <th>1</th>\n",
       "      <td>iPhone 11 Pro 256GB Memory</td>\n",
       "      <td>Introducing the iPhone 11 Pro. A transformativ...</td>\n",
       "    </tr>\n",
       "    <tr>\n",
       "      <th>2</th>\n",
       "      <td>Cannon EOS 80D DSLR Camera</td>\n",
       "      <td>Characterized by versatile imaging specs, the ...</td>\n",
       "    </tr>\n",
       "    <tr>\n",
       "      <th>3</th>\n",
       "      <td>Sony Playstation 4 Pro White Version</td>\n",
       "      <td>The ultimate home entertainment center starts ...</td>\n",
       "    </tr>\n",
       "    <tr>\n",
       "      <th>4</th>\n",
       "      <td>Logitech G-Series Gaming Mouse</td>\n",
       "      <td>Get a better handle on your games with this Lo...</td>\n",
       "    </tr>\n",
       "  </tbody>\n",
       "</table>\n",
       "</div>"
      ],
      "text/plain": [
       "                                    name  \\\n",
       "0  Airpods Wireless Bluetooth Headphones   \n",
       "1             iPhone 11 Pro 256GB Memory   \n",
       "2             Cannon EOS 80D DSLR Camera   \n",
       "3   Sony Playstation 4 Pro White Version   \n",
       "4         Logitech G-Series Gaming Mouse   \n",
       "\n",
       "                                         description  \n",
       "0  Bluetooth technology lets you connect it with ...  \n",
       "1  Introducing the iPhone 11 Pro. A transformativ...  \n",
       "2  Characterized by versatile imaging specs, the ...  \n",
       "3  The ultimate home entertainment center starts ...  \n",
       "4  Get a better handle on your games with this Lo...  "
      ]
     },
     "execution_count": 17,
     "metadata": {},
     "output_type": "execute_result"
    }
   ],
   "source": [
    "df_products.head()"
   ]
  },
  {
   "cell_type": "code",
   "execution_count": 18,
   "metadata": {},
   "outputs": [
    {
     "data": {
      "text/plain": [
       "0    Bluetooth technology lets you connect it with ...\n",
       "1    Introducing the iPhone 11 Pro. A transformativ...\n",
       "2    Characterized by versatile imaging specs, the ...\n",
       "3    The ultimate home entertainment center starts ...\n",
       "4    Get a better handle on your games with this Lo...\n",
       "5    Meet Echo Dot - Our most popular smart speaker...\n",
       "Name: description, dtype: object"
      ]
     },
     "execution_count": 18,
     "metadata": {},
     "output_type": "execute_result"
    }
   ],
   "source": [
    "df_products['description']"
   ]
  },
  {
   "cell_type": "code",
   "execution_count": 19,
   "metadata": {},
   "outputs": [],
   "source": [
    "tfidf = TfidfVectorizer(stop_words=\"english\")\n",
    "df_products['description'] = df_products['description'].fillna(\"\")\n",
    "tfidf_matrix = tfidf.fit_transform(df_products['description'])"
   ]
  },
  {
   "cell_type": "code",
   "execution_count": 20,
   "metadata": {},
   "outputs": [],
   "source": [
    "cosine_sim = linear_kernel(tfidf_matrix, tfidf_matrix)"
   ]
  },
  {
   "cell_type": "code",
   "execution_count": 21,
   "metadata": {},
   "outputs": [],
   "source": [
    "indices = pd.Series(df_products.index, index=df_products['name']).drop_duplicates()"
   ]
  },
  {
   "cell_type": "code",
   "execution_count": 22,
   "metadata": {},
   "outputs": [
    {
     "data": {
      "text/plain": [
       "3"
      ]
     },
     "execution_count": 22,
     "metadata": {},
     "output_type": "execute_result"
    }
   ],
   "source": [
    "indices['Sony Playstation 4 Pro White Version']"
   ]
  },
  {
   "cell_type": "code",
   "execution_count": 27,
   "metadata": {},
   "outputs": [
    {
     "data": {
      "text/plain": [
       "4           Logitech G-Series Gaming Mouse\n",
       "0    Airpods Wireless Bluetooth Headphones\n",
       "1               iPhone 11 Pro 256GB Memory\n",
       "2               Cannon EOS 80D DSLR Camera\n",
       "5           Amazon Echo Dot 3rd Generation\n",
       "Name: name, dtype: object"
      ]
     },
     "execution_count": 27,
     "metadata": {},
     "output_type": "execute_result"
    }
   ],
   "source": [
    "  def get_recommendations(name, cosine_sim = cosine_sim):\n",
    "      idx = indices[name]\n",
    "      sim_scores = enumerate(cosine_sim[idx])\n",
    "      sim_scores = sorted(sim_scores, key=lambda x: x[1], reverse=True)\n",
    "      sim_scores = sim_scores[1:11]\n",
    "    \n",
    "      sim_index = [i[0] for i in sim_scores]\n",
    "  \n",
    "      y = df_products['name'].iloc[sim_index]\n",
    "      return y\n",
    "\n",
    "      \n",
    "      \n",
    "\n",
    "  get_recommendations('Sony Playstation 4 Pro White Version')  "
   ]
  },
  {
   "cell_type": "code",
   "execution_count": 26,
   "metadata": {},
   "outputs": [],
   "source": [
    "model = {\n",
    "    'tfidf': tfidf,\n",
    "    'cosine_sim': cosine_sim,\n",
    "    'indices': indices,\n",
    "    'get_recommendations': get_recommendations,\n",
    "    'df_products': df_products\n",
    "}\n",
    "with open('model.pkl', 'wb') as f:\n",
    "    pickle.dump(model, f)"
   ]
  }
 ],
 "metadata": {
  "kernelspec": {
   "display_name": "Python 3",
   "language": "python",
   "name": "python3"
  },
  "language_info": {
   "codemirror_mode": {
    "name": "ipython",
    "version": 3
   },
   "file_extension": ".py",
   "mimetype": "text/x-python",
   "name": "python",
   "nbconvert_exporter": "python",
   "pygments_lexer": "ipython3",
   "version": "3.10.1"
  },
  "orig_nbformat": 4
 },
 "nbformat": 4,
 "nbformat_minor": 2
}
